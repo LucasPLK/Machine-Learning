{
 "cells": [
  {
   "cell_type": "code",
   "execution_count": 2,
   "metadata": {},
   "outputs": [],
   "source": [
    "import tensorflow as tf\n",
    "from sklearn.datasets import fetch_openml\n",
    "from sklearn.preprocessing import OneHotEncoder\n",
    "from sklearn.model_selection import train_test_split\n",
    "from sklearn.preprocessing import scale\n",
    "from sklearn.metrics import accuracy_score\n",
    "import matplotlib.pyplot as plt\n",
    "import sys\n",
    "import numpy as np"
   ]
  },
  {
   "cell_type": "code",
   "execution_count": 3,
   "metadata": {},
   "outputs": [
    {
     "name": "stderr",
     "output_type": "stream",
     "text": [
      "/home/lucas/anaconda3/lib/python3.7/site-packages/sklearn/preprocessing/_encoders.py:415: FutureWarning: The handling of integer data will change in version 0.22. Currently, the categories are determined based on the range [0, max(values)], while in the future they will be determined based on the unique values.\n",
      "If you want the future behaviour and silence this warning, you can specify \"categories='auto'\".\n",
      "In case you used a LabelEncoder before this OneHotEncoder to convert the categories to integers, then you can now use the OneHotEncoder directly.\n",
      "  warnings.warn(msg, FutureWarning)\n"
     ]
    }
   ],
   "source": [
    "onehot = OneHotEncoder(sparse=False)\n",
    "X, Y = fetch_openml('mnist_784', version=1, return_X_y=True)\n",
    "X = scale(X)\n",
    "Y = onehot.fit_transform(Y.reshape(-1, 1))\n",
    "x_train, x_test, y_train, y_test = train_test_split(X, Y, test_size=0.3)"
   ]
  },
  {
   "cell_type": "code",
   "execution_count": 4,
   "metadata": {
    "scrolled": true
   },
   "outputs": [
    {
     "name": "stdout",
     "output_type": "stream",
     "text": [
      "WARNING:tensorflow:From <ipython-input-4-b6c7b4118015>:14: softmax_cross_entropy_with_logits (from tensorflow.python.ops.nn_ops) is deprecated and will be removed in a future version.\n",
      "Instructions for updating:\n",
      "\n",
      "Future major versions of TensorFlow will allow gradients to flow\n",
      "into the labels input on backprop by default.\n",
      "\n",
      "See `tf.nn.softmax_cross_entropy_with_logits_v2`.\n",
      "\n",
      " 100 from 100 iteration Loss: 1.179892518566791"
     ]
    }
   ],
   "source": [
    "number_of_classes = 10\n",
    "y_pred = None\n",
    "with tf.Session() as sess:\n",
    "    with tf.variable_scope('LOGISTIC_REGRESSION', reuse=tf.AUTO_REUSE):\n",
    "        old_loss = None\n",
    "        x = tf.placeholder(tf.float64, shape=(None, 784), name='x')\n",
    "        y = tf.placeholder(tf.float64, shape=(None, number_of_classes), name='y')\n",
    "\n",
    "        w = tf.get_variable('w', shape=(784, number_of_classes), dtype=tf.float64, initializer=tf.random_normal_initializer())\n",
    "        b = tf.get_variable('b', shape=(number_of_classes), dtype=tf.float64, initializer=tf.random_normal_initializer())\n",
    "\n",
    "        reg = tf.matmul(x, w) + b\n",
    "        softmax = tf.round(tf.nn.softmax(reg))\n",
    "        loss = tf.reduce_mean(tf.nn.softmax_cross_entropy_with_logits(logits=reg, labels=y))\n",
    "\n",
    "        optimizer = tf.train.AdamOptimizer(0.03).minimize(loss)\n",
    "        sess.run(tf.global_variables_initializer())\n",
    "        iterations = 100\n",
    "        for i in range(iterations):\n",
    "            result, loss_value, _ = sess.run([softmax, loss, optimizer], feed_dict={x:x_train, y:y_train})\n",
    "\n",
    "            if old_loss:\n",
    "                if loss_value > old_loss:\n",
    "                    break\n",
    "\n",
    "            old_loss = loss_value\n",
    "            \n",
    "            sys.stdout.write(f\"\\r {i+1} from {iterations} iteration Loss: \" + str(loss_value))\n",
    "            sys.stdout.flush()\n",
    "\n",
    "        y_pred = sess.run(softmax, feed_dict={x:x_test})\n",
    "    "
   ]
  },
  {
   "cell_type": "code",
   "execution_count": 5,
   "metadata": {},
   "outputs": [
    {
     "name": "stdout",
     "output_type": "stream",
     "text": [
      "Accuracy Score: 0.8778095238095238\n"
     ]
    }
   ],
   "source": [
    "print(\"Accuracy Score:\", accuracy_score(np.argmax(y_test, axis=1), np.argmax(y_pred, axis=1)))"
   ]
  }
 ],
 "metadata": {
  "kernelspec": {
   "display_name": "Python 3",
   "language": "python",
   "name": "python3"
  },
  "language_info": {
   "codemirror_mode": {
    "name": "ipython",
    "version": 3
   },
   "file_extension": ".py",
   "mimetype": "text/x-python",
   "name": "python",
   "nbconvert_exporter": "python",
   "pygments_lexer": "ipython3",
   "version": "3.7.3"
  }
 },
 "nbformat": 4,
 "nbformat_minor": 4
}
